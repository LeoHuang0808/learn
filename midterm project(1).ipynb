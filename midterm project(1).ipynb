{
 "cells": [
  {
   "cell_type": "code",
   "execution_count": 16,
   "metadata": {},
   "outputs": [],
   "source": [
    "# Read the Instances\n",
    "import numpy as np\n",
    "import pandas as pd\n",
    "import math\n",
    "df = pd.read_csv('../midterm_project/midterm_project/Knapsack_Instances.csv', header = None, skip_blank_lines=False)\n",
    "df = df.fillna(0)\n",
    "\n",
    "np.set_printoptions(threshold=np.inf)\n",
    "Max_Value = np.zeros((51,151))\n",
    "for i in range(1,51):\n",
    "    for j in range(1,151):\n",
    "        if weight[i]<=j:\n",
    "            Max_Value[i][j]=max(Max_Value[i-1][j-(math.ceil(weight[i]))]+value[i],Max_Value[i-1][j])\n",
    "        else:\n",
    "            Max_Value[i][j]=Max_Value[i-1][j]\n",
    "\n",
    "Max_Value\n",
    "def Pick_Up(max_value,max_value_matrix,max_value_index):\n",
    "    final_pick_up = [0]*51\n",
    "    bag_load = 100+max_value_index\n",
    "    for z in range(50,0,-1):\n",
    "        if max_value_matrix[z,bag_load] > max_value_matrix[z-1,bag_load]:\n",
    "            final_pick_up[z]=1\n",
    "            bag_load = bag_load - math.ceil(weight[z])\n",
    "    del final_pick_up[0]\n",
    "    return final_pick_up\n",
    "    \n",
    "            \n",
    "Final_Pick_Up = []\n",
    "for m in range(len(df)):\n",
    "    if (m+1)%3 == 0:\n",
    "        result = []\n",
    "        weight = df.iloc[m-2,]\n",
    "        value= df.iloc[m-1,]\n",
    "        weight = list(weight)\n",
    "        value = list(value)\n",
    "        weight.insert(0,0)\n",
    "        value.insert(0,0)\n",
    "        True_Max_Value = Knapsack(weight,value)\n",
    "        for n in range(100,151):\n",
    "            expect = ((50-(n-100))/50) * True_Max_Value[-1,n]\n",
    "            result.append(expect)\n",
    "        Max_Value=max(result)\n",
    "        Max_Value_Index = result.index(Max_Value)\n",
    "        Final_Pick_Up.append(Pick_Up(Max_Value,True_Max_Value,Max_Value_Index))\n",
    "Final_Pick_Up\n",
    "\n"
   ]
  },
  {
   "cell_type": "code",
   "execution_count": 3,
   "metadata": {},
   "outputs": [],
   "source": [
    "for x in range(len(df)):\n",
    "    if (x+1)%3==0:\n",
    "        df.iloc[x,]=Final_Pick_Up[int((x+1)/3)-1]"
   ]
  },
  {
   "cell_type": "code",
   "execution_count": 4,
   "metadata": {},
   "outputs": [],
   "source": [
    "df.to_csv(\"stest_knapsack_solution.csv\",index = False, header=False)"
   ]
  },
  {
   "cell_type": "code",
   "execution_count": 6,
   "metadata": {},
   "outputs": [
    {
     "data": {
      "text/plain": [
       "array([[0., 0., 0., ..., 0., 0., 0.],\n",
       "       [0., 0., 0., ..., 0., 0., 0.],\n",
       "       [0., 0., 0., ..., 0., 0., 0.],\n",
       "       ...,\n",
       "       [0., 0., 0., ..., 0., 0., 0.],\n",
       "       [0., 0., 0., ..., 0., 0., 0.],\n",
       "       [0., 0., 0., ..., 0., 0., 0.]])"
      ]
     },
     "execution_count": 6,
     "metadata": {},
     "output_type": "execute_result"
    }
   ],
   "source": [
    "Max_Value = np.zeros((51,151))\n",
    "Max_Value"
   ]
  }
 ],
 "metadata": {
  "anaconda-cloud": {},
  "kernelspec": {
   "display_name": "Python [default]",
   "language": "python",
   "name": "python3"
  },
  "language_info": {
   "codemirror_mode": {
    "name": "ipython",
    "version": 3
   },
   "file_extension": ".py",
   "mimetype": "text/x-python",
   "name": "python",
   "nbconvert_exporter": "python",
   "pygments_lexer": "ipython3",
   "version": "3.5.5"
  }
 },
 "nbformat": 4,
 "nbformat_minor": 2
}
